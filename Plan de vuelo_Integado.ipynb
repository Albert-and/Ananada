{
 "cells": [
  {
   "cell_type": "code",
   "execution_count": 5,
   "metadata": {},
   "outputs": [],
   "source": [
    "import pandas as pd\n",
    "import sqlalchemy\n",
    "import numpy as np\n",
    "from sqlalchemy import create_engine\n",
    "from datetime import datetime, timedelta\n",
    "import time\n",
    "from IPython.display import display, clear_output"
   ]
  },
  {
   "cell_type": "code",
   "execution_count": 10,
   "metadata": {},
   "outputs": [],
   "source": [
    "# Configuración de la conexión a la base de datos\n",
    "db_config = {\n",
    "    'driver': 'ODBC Driver 18 for SQL Server',\n",
    "    'server': '172.16.0.4',\n",
    "    'database': 'bd_dalia_prod',  # Nombre de la primera base de datos para la conexión inicial\n",
    "    'uid': 'sa',\n",
    "    'pwd': 'SAPB1Admin'\n",
    "}\n",
    "\n",
    "# Crear la cadena de conexión\n",
    "connection_string = (\n",
    "    f\"mssql+pyodbc://{db_config['uid']}:{db_config['pwd']}@{db_config['server']}/{db_config['database']}?\"\n",
    "    f\"driver={db_config['driver'].replace(' ', '+')}&TrustServerCertificate=yes\"\n",
    ")\n",
    "engine = sqlalchemy.create_engine(connection_string)\n"
   ]
  },
  {
   "cell_type": "code",
   "execution_count": 11,
   "metadata": {},
   "outputs": [],
   "source": [
    "# Consulta SQL\n",
    "query = \"\"\"\n",
    "SELECT\n",
    "    orden_venta,\n",
    "    estatus_registro,\n",
    "    CAST(fecha_inicio_surtido AS DATETIME) + CAST(hora_inicio_surtido AS DATETIME) AS inicio_surtido_datetime,\n",
    "    CAST(fecha_inicio_verificado AS DATETIME) + CAST(hora_inicio_verificado AS DATETIME) AS inicio_verificado_datetime,\n",
    "    CAST(fecha_termino_surtido AS DATETIME) + CAST(hora_termino_surtido AS DATETIME) AS termino_surtido_datetime,\n",
    "    CAST(fecha_termino_verificado AS DATETIME) + CAST(hora_termino_verificado AS DATETIME) AS termino_verificado_datetime,\n",
    "    CAST(fecha_surtir AS DATETIME) + CAST(hora_surtir AS DATETIME) AS surtir_datetime\n",
    "FROM tbl_registro\n",
    "WHERE fecha_surtir >= '20240601';\n",
    "\n",
    "\"\"\""
   ]
  },
  {
   "cell_type": "code",
   "execution_count": 12,
   "metadata": {},
   "outputs": [],
   "source": [
    "# Cargar los datos en un DataFrame\n",
    "df = pd.read_sql(query, engine)\n"
   ]
  },
  {
   "cell_type": "code",
   "execution_count": 14,
   "metadata": {},
   "outputs": [
    {
     "data": {
      "text/html": [
       "<div>\n",
       "<style scoped>\n",
       "    .dataframe tbody tr th:only-of-type {\n",
       "        vertical-align: middle;\n",
       "    }\n",
       "\n",
       "    .dataframe tbody tr th {\n",
       "        vertical-align: top;\n",
       "    }\n",
       "\n",
       "    .dataframe thead th {\n",
       "        text-align: right;\n",
       "    }\n",
       "</style>\n",
       "<table border=\"1\" class=\"dataframe\">\n",
       "  <thead>\n",
       "    <tr style=\"text-align: right;\">\n",
       "      <th></th>\n",
       "      <th>orden_venta</th>\n",
       "      <th>estatus_registro</th>\n",
       "      <th>inicio_surtido_datetime</th>\n",
       "      <th>inicio_verificado_datetime</th>\n",
       "      <th>termino_surtido_datetime</th>\n",
       "      <th>termino_verificado_datetime</th>\n",
       "      <th>surtir_datetime</th>\n",
       "    </tr>\n",
       "  </thead>\n",
       "  <tbody>\n",
       "    <tr>\n",
       "      <th>0</th>\n",
       "      <td>20000110</td>\n",
       "      <td>Termino surtir</td>\n",
       "      <td>2024-06-03 13:16:55</td>\n",
       "      <td>NaT</td>\n",
       "      <td>2024-06-03 13:27:17</td>\n",
       "      <td>NaT</td>\n",
       "      <td>None</td>\n",
       "    </tr>\n",
       "    <tr>\n",
       "      <th>1</th>\n",
       "      <td>10001620</td>\n",
       "      <td>Termino Verificado</td>\n",
       "      <td>2024-06-03 13:22:30</td>\n",
       "      <td>2024-06-03 14:03:37</td>\n",
       "      <td>2024-06-03 14:03:17</td>\n",
       "      <td>2024-06-03 14:37:30</td>\n",
       "      <td>None</td>\n",
       "    </tr>\n",
       "    <tr>\n",
       "      <th>2</th>\n",
       "      <td>20000111</td>\n",
       "      <td>Termino Verificado</td>\n",
       "      <td>2024-06-03 13:29:09</td>\n",
       "      <td>2024-06-03 14:23:24</td>\n",
       "      <td>2024-06-03 13:51:28</td>\n",
       "      <td>2024-06-03 16:24:45</td>\n",
       "      <td>None</td>\n",
       "    </tr>\n",
       "    <tr>\n",
       "      <th>3</th>\n",
       "      <td>30000002</td>\n",
       "      <td>Inicio Surtido</td>\n",
       "      <td>2024-06-03 16:43:24</td>\n",
       "      <td>NaT</td>\n",
       "      <td>NaT</td>\n",
       "      <td>NaT</td>\n",
       "      <td>None</td>\n",
       "    </tr>\n",
       "    <tr>\n",
       "      <th>4</th>\n",
       "      <td>10001621</td>\n",
       "      <td>Termino Verificado</td>\n",
       "      <td>2024-06-03 14:04:40</td>\n",
       "      <td>2024-06-03 14:38:56</td>\n",
       "      <td>2024-06-03 14:05:32</td>\n",
       "      <td>2024-06-03 14:56:18</td>\n",
       "      <td>None</td>\n",
       "    </tr>\n",
       "  </tbody>\n",
       "</table>\n",
       "</div>"
      ],
      "text/plain": [
       "   orden_venta    estatus_registro inicio_surtido_datetime  \\\n",
       "0     20000110      Termino surtir     2024-06-03 13:16:55   \n",
       "1     10001620  Termino Verificado     2024-06-03 13:22:30   \n",
       "2     20000111  Termino Verificado     2024-06-03 13:29:09   \n",
       "3     30000002      Inicio Surtido     2024-06-03 16:43:24   \n",
       "4     10001621  Termino Verificado     2024-06-03 14:04:40   \n",
       "\n",
       "  inicio_verificado_datetime termino_surtido_datetime  \\\n",
       "0                        NaT      2024-06-03 13:27:17   \n",
       "1        2024-06-03 14:03:37      2024-06-03 14:03:17   \n",
       "2        2024-06-03 14:23:24      2024-06-03 13:51:28   \n",
       "3                        NaT                      NaT   \n",
       "4        2024-06-03 14:38:56      2024-06-03 14:05:32   \n",
       "\n",
       "  termino_verificado_datetime surtir_datetime  \n",
       "0                         NaT            None  \n",
       "1         2024-06-03 14:37:30            None  \n",
       "2         2024-06-03 16:24:45            None  \n",
       "3                         NaT            None  \n",
       "4         2024-06-03 14:56:18            None  "
      ]
     },
     "execution_count": 14,
     "metadata": {},
     "output_type": "execute_result"
    }
   ],
   "source": [
    "df.head()"
   ]
  }
 ],
 "metadata": {
  "kernelspec": {
   "display_name": "base",
   "language": "python",
   "name": "python3"
  },
  "language_info": {
   "codemirror_mode": {
    "name": "ipython",
    "version": 3
   },
   "file_extension": ".py",
   "mimetype": "text/x-python",
   "name": "python",
   "nbconvert_exporter": "python",
   "pygments_lexer": "ipython3",
   "version": "3.11.7"
  }
 },
 "nbformat": 4,
 "nbformat_minor": 2
}
